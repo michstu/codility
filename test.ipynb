{
 "metadata": {
  "language_info": {
   "codemirror_mode": {
    "name": "ipython",
    "version": 3
   },
   "file_extension": ".py",
   "mimetype": "text/x-python",
   "name": "python",
   "nbconvert_exporter": "python",
   "pygments_lexer": "ipython3",
   "version": "3.9.1-final"
  },
  "orig_nbformat": 2,
  "kernelspec": {
   "name": "python3",
   "display_name": "Python 3.9.1 64-bit",
   "metadata": {
    "interpreter": {
     "hash": "e9374ebfd15d5e5dc3ab3ca26592d7b99074df4bd057e31f910c20be7f3f685a"
    }
   }
  }
 },
 "nbformat": 4,
 "nbformat_minor": 2,
 "cells": [
  {
   "cell_type": "code",
   "execution_count": 3,
   "metadata": {},
   "outputs": [],
   "source": [
    "A=[0]*8\n",
    "A[0] = 1\n",
    "A[1] = 3\n",
    "A[2] = 1\n",
    "A[3] = 4\n",
    "A[4] = 2\n",
    "A[5] = 3\n",
    "A[6] = 5\n",
    "A[7] = 4"
   ]
  },
  {
   "cell_type": "code",
   "execution_count": 12,
   "metadata": {},
   "outputs": [
    {
     "output_type": "stream",
     "name": "stdout",
     "text": [
      "5 0\n5 1\n5 2\n5 3\n5 4\n5 5\nwynik 6\n"
     ]
    }
   ],
   "source": [
    "X=5\n",
    "P={}\n",
    "i=0\n",
    "while X > len(P):\n",
    "    print(X,i)\n",
    "    i=i+1\n",
    "    if A[i] <= X:\n",
    "            P[A[i]] = 1\n",
    "print(\"wynik\", i)"
   ]
  },
  {
   "cell_type": "code",
   "execution_count": 40,
   "metadata": {},
   "outputs": [],
   "source": [
    "def solution(X, A):\n",
    "    P={}\n",
    "    i=0\n",
    "    for i in range(0,len(A)-1):\n",
    "        if X > len(P):\n",
    "            if A[i] <= X:  \n",
    "                P[A[i]] = 1\n",
    "            \n",
    "    return(i-1)\n"
   ]
  },
  {
   "cell_type": "code",
   "execution_count": 39,
   "metadata": {},
   "outputs": [
    {
     "output_type": "stream",
     "name": "stdout",
     "text": [
      "0 0 {}\nasfer 0 1 {1: 1}\n1 1 {1: 1}\nasfer 1 2 {1: 1, 3: 1}\n2 2 {1: 1, 3: 1}\nasfer 2 3 {1: 1, 3: 1, 2: 1}\n2\n"
     ]
    }
   ],
   "source": [
    "print(solution(3, [1, 3, 2, 4, 2, 3, 5, 4])  )   \n"
   ]
  },
  {
   "cell_type": "code",
   "execution_count": 26,
   "metadata": {},
   "outputs": [
    {
     "output_type": "stream",
     "name": "stdout",
     "text": [
      "dict_keys([3, 1, 4, 2, 5])\n"
     ]
    }
   ],
   "source": [
    "print(P.keys())"
   ]
  },
  {
   "cell_type": "code",
   "execution_count": null,
   "metadata": {},
   "outputs": [],
   "source": []
  }
 ]
}